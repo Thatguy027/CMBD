{
 "cells": [
  {
   "cell_type": "code",
   "execution_count": 1,
   "metadata": {
    "collapsed": true
   },
   "outputs": [],
   "source": [
    "import pandas as pd\n",
    "import numpy as np\n",
    "import seaborn as sns\n",
    "import scipy as sp\n",
    "import scipy.stats as scst\n",
    "import matplotlib.pyplot as plt"
   ]
  },
  {
   "cell_type": "code",
   "execution_count": null,
   "metadata": {
    "collapsed": true
   },
   "outputs": [],
   "source": []
  },
  {
   "cell_type": "code",
   "execution_count": 2,
   "metadata": {
    "collapsed": true
   },
   "outputs": [],
   "source": [
    "b_growth = pd.read_csv('growth-raw.csv')\n",
    "plate_map = pd.read_csv('platemap.csv')"
   ]
  },
  {
   "cell_type": "code",
   "execution_count": 3,
   "metadata": {
    "collapsed": true
   },
   "outputs": [
    {
     "data": {
      "text/plain": [
       "(4421, 98)"
      ]
     },
     "execution_count": 3,
     "metadata": {},
     "output_type": "execute_result"
    }
   ],
   "source": [
    "b_growth.shape"
   ]
  },
  {
   "cell_type": "code",
   "execution_count": 4,
   "metadata": {
    "collapsed": true
   },
   "outputs": [],
   "source": [
    "#Each row of the example file contains the :\n",
    "#Time (in seconds), \n",
    "#Temperature (in degrees Celsius), \n",
    "#absorbance readings at 600 nm \n",
    "#for the 96 wells in a microtiter plate over a 24-hour period. "
   ]
  },
  {
   "cell_type": "code",
   "execution_count": 5,
   "metadata": {
    "collapsed": true
   },
   "outputs": [
    {
     "data": {
      "text/html": [
       "<div>\n",
       "<style>\n",
       "    .dataframe thead tr:only-child th {\n",
       "        text-align: right;\n",
       "    }\n",
       "\n",
       "    .dataframe thead th {\n",
       "        text-align: left;\n",
       "    }\n",
       "\n",
       "    .dataframe tbody tr th {\n",
       "        vertical-align: top;\n",
       "    }\n",
       "</style>\n",
       "<table border=\"1\" class=\"dataframe\">\n",
       "  <thead>\n",
       "    <tr style=\"text-align: right;\">\n",
       "      <th></th>\n",
       "      <th>Time</th>\n",
       "      <th>Temperature</th>\n",
       "      <th>A1</th>\n",
       "      <th>A2</th>\n",
       "      <th>A3</th>\n",
       "      <th>A4</th>\n",
       "      <th>A5</th>\n",
       "      <th>A6</th>\n",
       "      <th>A7</th>\n",
       "      <th>A8</th>\n",
       "      <th>...</th>\n",
       "      <th>H3</th>\n",
       "      <th>H4</th>\n",
       "      <th>H5</th>\n",
       "      <th>H6</th>\n",
       "      <th>H7</th>\n",
       "      <th>H8</th>\n",
       "      <th>H9</th>\n",
       "      <th>H10</th>\n",
       "      <th>H11</th>\n",
       "      <th>H12</th>\n",
       "    </tr>\n",
       "  </thead>\n",
       "  <tbody>\n",
       "    <tr>\n",
       "      <th>0</th>\n",
       "      <td>0</td>\n",
       "      <td>28.2</td>\n",
       "      <td>0.0777</td>\n",
       "      <td>0.0811</td>\n",
       "      <td>0.0801</td>\n",
       "      <td>0.0800</td>\n",
       "      <td>0.0799</td>\n",
       "      <td>0.0806</td>\n",
       "      <td>0.0811</td>\n",
       "      <td>0.0800</td>\n",
       "      <td>...</td>\n",
       "      <td>0.0894</td>\n",
       "      <td>0.0889</td>\n",
       "      <td>0.0903</td>\n",
       "      <td>0.0894</td>\n",
       "      <td>0.0890</td>\n",
       "      <td>0.0896</td>\n",
       "      <td>0.0894</td>\n",
       "      <td>0.0923</td>\n",
       "      <td>0.0894</td>\n",
       "      <td>0.0908</td>\n",
       "    </tr>\n",
       "    <tr>\n",
       "      <th>1</th>\n",
       "      <td>20</td>\n",
       "      <td>28.9</td>\n",
       "      <td>0.0778</td>\n",
       "      <td>0.0811</td>\n",
       "      <td>0.0800</td>\n",
       "      <td>0.0801</td>\n",
       "      <td>0.0800</td>\n",
       "      <td>0.0817</td>\n",
       "      <td>0.0813</td>\n",
       "      <td>0.0800</td>\n",
       "      <td>...</td>\n",
       "      <td>0.0894</td>\n",
       "      <td>0.0889</td>\n",
       "      <td>0.0902</td>\n",
       "      <td>0.0904</td>\n",
       "      <td>0.0889</td>\n",
       "      <td>0.0896</td>\n",
       "      <td>0.0888</td>\n",
       "      <td>0.0922</td>\n",
       "      <td>0.0894</td>\n",
       "      <td>0.0909</td>\n",
       "    </tr>\n",
       "    <tr>\n",
       "      <th>2</th>\n",
       "      <td>40</td>\n",
       "      <td>29.3</td>\n",
       "      <td>0.0779</td>\n",
       "      <td>0.0815</td>\n",
       "      <td>0.0802</td>\n",
       "      <td>0.0802</td>\n",
       "      <td>0.0804</td>\n",
       "      <td>0.0816</td>\n",
       "      <td>0.0813</td>\n",
       "      <td>0.0801</td>\n",
       "      <td>...</td>\n",
       "      <td>0.0894</td>\n",
       "      <td>0.0888</td>\n",
       "      <td>0.0899</td>\n",
       "      <td>0.0903</td>\n",
       "      <td>0.0889</td>\n",
       "      <td>0.0895</td>\n",
       "      <td>0.0888</td>\n",
       "      <td>0.0932</td>\n",
       "      <td>0.0894</td>\n",
       "      <td>0.0909</td>\n",
       "    </tr>\n",
       "    <tr>\n",
       "      <th>3</th>\n",
       "      <td>60</td>\n",
       "      <td>29.8</td>\n",
       "      <td>0.0780</td>\n",
       "      <td>0.0814</td>\n",
       "      <td>0.0800</td>\n",
       "      <td>0.0801</td>\n",
       "      <td>0.0800</td>\n",
       "      <td>0.0816</td>\n",
       "      <td>0.0810</td>\n",
       "      <td>0.0802</td>\n",
       "      <td>...</td>\n",
       "      <td>0.0893</td>\n",
       "      <td>0.0888</td>\n",
       "      <td>0.0900</td>\n",
       "      <td>0.0903</td>\n",
       "      <td>0.0888</td>\n",
       "      <td>0.0895</td>\n",
       "      <td>0.0888</td>\n",
       "      <td>0.0931</td>\n",
       "      <td>0.0893</td>\n",
       "      <td>0.0906</td>\n",
       "    </tr>\n",
       "    <tr>\n",
       "      <th>4</th>\n",
       "      <td>80</td>\n",
       "      <td>30.2</td>\n",
       "      <td>0.0779</td>\n",
       "      <td>0.0813</td>\n",
       "      <td>0.0802</td>\n",
       "      <td>0.0801</td>\n",
       "      <td>0.0800</td>\n",
       "      <td>0.0816</td>\n",
       "      <td>0.0812</td>\n",
       "      <td>0.0801</td>\n",
       "      <td>...</td>\n",
       "      <td>0.0893</td>\n",
       "      <td>0.0888</td>\n",
       "      <td>0.0901</td>\n",
       "      <td>0.0903</td>\n",
       "      <td>0.0888</td>\n",
       "      <td>0.0895</td>\n",
       "      <td>0.0887</td>\n",
       "      <td>0.0931</td>\n",
       "      <td>0.0893</td>\n",
       "      <td>0.0906</td>\n",
       "    </tr>\n",
       "  </tbody>\n",
       "</table>\n",
       "<p>5 rows × 98 columns</p>\n",
       "</div>"
      ],
      "text/plain": [
       "   Time  Temperature      A1      A2      A3      A4      A5      A6      A7  \\\n",
       "0     0         28.2  0.0777  0.0811  0.0801  0.0800  0.0799  0.0806  0.0811   \n",
       "1    20         28.9  0.0778  0.0811  0.0800  0.0801  0.0800  0.0817  0.0813   \n",
       "2    40         29.3  0.0779  0.0815  0.0802  0.0802  0.0804  0.0816  0.0813   \n",
       "3    60         29.8  0.0780  0.0814  0.0800  0.0801  0.0800  0.0816  0.0810   \n",
       "4    80         30.2  0.0779  0.0813  0.0802  0.0801  0.0800  0.0816  0.0812   \n",
       "\n",
       "       A8   ...        H3      H4      H5      H6      H7      H8      H9  \\\n",
       "0  0.0800   ...    0.0894  0.0889  0.0903  0.0894  0.0890  0.0896  0.0894   \n",
       "1  0.0800   ...    0.0894  0.0889  0.0902  0.0904  0.0889  0.0896  0.0888   \n",
       "2  0.0801   ...    0.0894  0.0888  0.0899  0.0903  0.0889  0.0895  0.0888   \n",
       "3  0.0802   ...    0.0893  0.0888  0.0900  0.0903  0.0888  0.0895  0.0888   \n",
       "4  0.0801   ...    0.0893  0.0888  0.0901  0.0903  0.0888  0.0895  0.0887   \n",
       "\n",
       "      H10     H11     H12  \n",
       "0  0.0923  0.0894  0.0908  \n",
       "1  0.0922  0.0894  0.0909  \n",
       "2  0.0932  0.0894  0.0909  \n",
       "3  0.0931  0.0893  0.0906  \n",
       "4  0.0931  0.0893  0.0906  \n",
       "\n",
       "[5 rows x 98 columns]"
      ]
     },
     "execution_count": 5,
     "metadata": {},
     "output_type": "execute_result"
    }
   ],
   "source": [
    "b_growth.head()"
   ]
  },
  {
   "cell_type": "markdown",
   "metadata": {},
   "source": [
    "## Tidy - make long format"
   ]
  },
  {
   "cell_type": "code",
   "execution_count": 6,
   "metadata": {
    "collapsed": true
   },
   "outputs": [],
   "source": [
    "m_growth = b_growth.melt(id_vars=['Time','Temperature'],\n",
    "                             value_vars=b_growth.columns[2:],\n",
    "                             value_name='OD600',\n",
    "                             var_name='Well')"
   ]
  },
  {
   "cell_type": "code",
   "execution_count": 7,
   "metadata": {},
   "outputs": [
    {
     "data": {
      "text/html": [
       "<div>\n",
       "<style>\n",
       "    .dataframe thead tr:only-child th {\n",
       "        text-align: right;\n",
       "    }\n",
       "\n",
       "    .dataframe thead th {\n",
       "        text-align: left;\n",
       "    }\n",
       "\n",
       "    .dataframe tbody tr th {\n",
       "        vertical-align: top;\n",
       "    }\n",
       "</style>\n",
       "<table border=\"1\" class=\"dataframe\">\n",
       "  <thead>\n",
       "    <tr style=\"text-align: right;\">\n",
       "      <th></th>\n",
       "      <th>Time</th>\n",
       "      <th>Temperature</th>\n",
       "      <th>Well</th>\n",
       "      <th>OD600</th>\n",
       "    </tr>\n",
       "  </thead>\n",
       "  <tbody>\n",
       "    <tr>\n",
       "      <th>0</th>\n",
       "      <td>0</td>\n",
       "      <td>28.2</td>\n",
       "      <td>A1</td>\n",
       "      <td>0.0777</td>\n",
       "    </tr>\n",
       "    <tr>\n",
       "      <th>1</th>\n",
       "      <td>20</td>\n",
       "      <td>28.9</td>\n",
       "      <td>A1</td>\n",
       "      <td>0.0778</td>\n",
       "    </tr>\n",
       "    <tr>\n",
       "      <th>2</th>\n",
       "      <td>40</td>\n",
       "      <td>29.3</td>\n",
       "      <td>A1</td>\n",
       "      <td>0.0779</td>\n",
       "    </tr>\n",
       "    <tr>\n",
       "      <th>3</th>\n",
       "      <td>60</td>\n",
       "      <td>29.8</td>\n",
       "      <td>A1</td>\n",
       "      <td>0.0780</td>\n",
       "    </tr>\n",
       "    <tr>\n",
       "      <th>4</th>\n",
       "      <td>80</td>\n",
       "      <td>30.2</td>\n",
       "      <td>A1</td>\n",
       "      <td>0.0779</td>\n",
       "    </tr>\n",
       "  </tbody>\n",
       "</table>\n",
       "</div>"
      ],
      "text/plain": [
       "   Time  Temperature Well   OD600\n",
       "0     0         28.2   A1  0.0777\n",
       "1    20         28.9   A1  0.0778\n",
       "2    40         29.3   A1  0.0779\n",
       "3    60         29.8   A1  0.0780\n",
       "4    80         30.2   A1  0.0779"
      ]
     },
     "execution_count": 7,
     "metadata": {},
     "output_type": "execute_result"
    }
   ],
   "source": [
    "m_growth.head()"
   ]
  },
  {
   "cell_type": "markdown",
   "metadata": {},
   "source": [
    "## Annotate data with strains and conditions"
   ]
  },
  {
   "cell_type": "code",
   "execution_count": 8,
   "metadata": {},
   "outputs": [
    {
     "data": {
      "text/html": [
       "<div>\n",
       "<style>\n",
       "    .dataframe thead tr:only-child th {\n",
       "        text-align: right;\n",
       "    }\n",
       "\n",
       "    .dataframe thead th {\n",
       "        text-align: left;\n",
       "    }\n",
       "\n",
       "    .dataframe tbody tr th {\n",
       "        vertical-align: top;\n",
       "    }\n",
       "</style>\n",
       "<table border=\"1\" class=\"dataframe\">\n",
       "  <thead>\n",
       "    <tr style=\"text-align: right;\">\n",
       "      <th></th>\n",
       "      <th>Well</th>\n",
       "      <th>Strain</th>\n",
       "      <th>Environment</th>\n",
       "    </tr>\n",
       "  </thead>\n",
       "  <tbody>\n",
       "    <tr>\n",
       "      <th>0</th>\n",
       "      <td>B2</td>\n",
       "      <td>A</td>\n",
       "      <td>1</td>\n",
       "    </tr>\n",
       "    <tr>\n",
       "      <th>1</th>\n",
       "      <td>B3</td>\n",
       "      <td>B</td>\n",
       "      <td>1</td>\n",
       "    </tr>\n",
       "    <tr>\n",
       "      <th>2</th>\n",
       "      <td>B4</td>\n",
       "      <td>C</td>\n",
       "      <td>1</td>\n",
       "    </tr>\n",
       "    <tr>\n",
       "      <th>3</th>\n",
       "      <td>B5</td>\n",
       "      <td>NaN</td>\n",
       "      <td>1</td>\n",
       "    </tr>\n",
       "    <tr>\n",
       "      <th>4</th>\n",
       "      <td>B6</td>\n",
       "      <td>A</td>\n",
       "      <td>2</td>\n",
       "    </tr>\n",
       "  </tbody>\n",
       "</table>\n",
       "</div>"
      ],
      "text/plain": [
       "  Well Strain  Environment\n",
       "0   B2      A            1\n",
       "1   B3      B            1\n",
       "2   B4      C            1\n",
       "3   B5    NaN            1\n",
       "4   B6      A            2"
      ]
     },
     "execution_count": 8,
     "metadata": {},
     "output_type": "execute_result"
    }
   ],
   "source": [
    "plate_map.head()"
   ]
  },
  {
   "cell_type": "code",
   "execution_count": 9,
   "metadata": {
    "collapsed": true
   },
   "outputs": [],
   "source": [
    "map_growth = pd.merge(m_growth,plate_map,on='Well',how='inner')"
   ]
  },
  {
   "cell_type": "code",
   "execution_count": 10,
   "metadata": {},
   "outputs": [
    {
     "data": {
      "text/plain": [
       "Time             int64\n",
       "Temperature    float64\n",
       "Well            object\n",
       "OD600          float64\n",
       "Strain          object\n",
       "Environment      int64\n",
       "dtype: object"
      ]
     },
     "execution_count": 10,
     "metadata": {},
     "output_type": "execute_result"
    }
   ],
   "source": [
    "map_growth.dtypes"
   ]
  },
  {
   "cell_type": "markdown",
   "metadata": {},
   "source": [
    "## Save anmotated file"
   ]
  },
  {
   "cell_type": "code",
   "execution_count": 11,
   "metadata": {
    "collapsed": true
   },
   "outputs": [],
   "source": [
    "map_growth.to_csv(\"annotated_growth.csv\",sep=',')"
   ]
  },
  {
   "cell_type": "markdown",
   "metadata": {},
   "source": [
    "## summarise data"
   ]
  },
  {
   "cell_type": "code",
   "execution_count": 12,
   "metadata": {
    "collapsed": true
   },
   "outputs": [],
   "source": [
    "gr_growth = map_growth.drop('Well',axis=1).groupby(['Strain','Environment','Time'])['OD600'].agg(['count',np.mean,np.std])"
   ]
  },
  {
   "cell_type": "code",
   "execution_count": 13,
   "metadata": {},
   "outputs": [
    {
     "data": {
      "text/html": [
       "<div>\n",
       "<style>\n",
       "    .dataframe thead tr:only-child th {\n",
       "        text-align: right;\n",
       "    }\n",
       "\n",
       "    .dataframe thead th {\n",
       "        text-align: left;\n",
       "    }\n",
       "\n",
       "    .dataframe tbody tr th {\n",
       "        vertical-align: top;\n",
       "    }\n",
       "</style>\n",
       "<table border=\"1\" class=\"dataframe\">\n",
       "  <thead>\n",
       "    <tr style=\"text-align: right;\">\n",
       "      <th></th>\n",
       "      <th></th>\n",
       "      <th></th>\n",
       "      <th>count</th>\n",
       "      <th>mean</th>\n",
       "      <th>std</th>\n",
       "    </tr>\n",
       "    <tr>\n",
       "      <th>Strain</th>\n",
       "      <th>Environment</th>\n",
       "      <th>Time</th>\n",
       "      <th></th>\n",
       "      <th></th>\n",
       "      <th></th>\n",
       "    </tr>\n",
       "  </thead>\n",
       "  <tbody>\n",
       "    <tr>\n",
       "      <th rowspan=\"5\" valign=\"top\">A</th>\n",
       "      <th rowspan=\"5\" valign=\"top\">1</th>\n",
       "      <th>0</th>\n",
       "      <td>8</td>\n",
       "      <td>0.927612</td>\n",
       "      <td>0.714551</td>\n",
       "    </tr>\n",
       "    <tr>\n",
       "      <th>20</th>\n",
       "      <td>8</td>\n",
       "      <td>0.921225</td>\n",
       "      <td>0.716627</td>\n",
       "    </tr>\n",
       "    <tr>\n",
       "      <th>40</th>\n",
       "      <td>8</td>\n",
       "      <td>0.875088</td>\n",
       "      <td>0.756127</td>\n",
       "    </tr>\n",
       "    <tr>\n",
       "      <th>60</th>\n",
       "      <td>8</td>\n",
       "      <td>0.872537</td>\n",
       "      <td>0.756947</td>\n",
       "    </tr>\n",
       "    <tr>\n",
       "      <th>80</th>\n",
       "      <td>8</td>\n",
       "      <td>0.872800</td>\n",
       "      <td>0.757253</td>\n",
       "    </tr>\n",
       "  </tbody>\n",
       "</table>\n",
       "</div>"
      ],
      "text/plain": [
       "                         count      mean       std\n",
       "Strain Environment Time                           \n",
       "A      1           0         8  0.927612  0.714551\n",
       "                   20        8  0.921225  0.716627\n",
       "                   40        8  0.875088  0.756127\n",
       "                   60        8  0.872537  0.756947\n",
       "                   80        8  0.872800  0.757253"
      ]
     },
     "execution_count": 13,
     "metadata": {},
     "output_type": "execute_result"
    }
   ],
   "source": [
    "gr_growth.head()"
   ]
  },
  {
   "cell_type": "code",
   "execution_count": 14,
   "metadata": {
    "collapsed": true,
    "scrolled": true
   },
   "outputs": [],
   "source": [
    "ci_growth=gr_growth.assign(CI_L=lambda x: sp.stats.t.interval(0.95, x['count']-1, loc=x['mean'], scale=x['std']/np.sqrt(x['count']))[0],\n",
    "                CI_R=lambda x: sp.stats.t.interval(0.95, x['count']-1, loc=x['mean'], scale=x['std']/np.sqrt(x['count']))[1])"
   ]
  },
  {
   "cell_type": "code",
   "execution_count": 15,
   "metadata": {
    "collapsed": true,
    "scrolled": true
   },
   "outputs": [],
   "source": [
    "growth_plot_df=ci_growth.reset_index()"
   ]
  },
  {
   "cell_type": "code",
   "execution_count": null,
   "metadata": {},
   "outputs": [],
   "source": []
  },
  {
   "cell_type": "code",
   "execution_count": 24,
   "metadata": {},
   "outputs": [
    {
     "data": {
      "text/plain": [
       "<matplotlib.axes._subplots.AxesSubplot at 0x1117aaf10>"
      ]
     },
     "execution_count": 24,
     "metadata": {},
     "output_type": "execute_result"
    }
   ],
   "source": [
    "plot_df=ci_growth.reset_index()\n",
    "map_growth.plot.hist()"
   ]
  },
  {
   "cell_type": "code",
   "execution_count": null,
   "metadata": {
    "collapsed": true
   },
   "outputs": [],
   "source": [
    "map_growth"
   ]
  },
  {
   "cell_type": "code",
   "execution_count": 25,
   "metadata": {},
   "outputs": [
    {
     "data": {
      "text/plain": [
       "<seaborn.axisgrid.FacetGrid at 0x10f345950>"
      ]
     },
     "execution_count": 25,
     "metadata": {},
     "output_type": "execute_result"
    }
   ],
   "source": [
    "sns.set(style=\"darkgrid\")\n",
    "g = sns.FacetGrid(map_growth.sample(100), row=\"Environment\",col='Strain', margin_titles=True)\n",
    "g.map(plt.plot, 'Time','OD600')"
   ]
  },
  {
   "cell_type": "code",
   "execution_count": 23,
   "metadata": {},
   "outputs": [
    {
     "data": {
      "text/plain": [
       "<seaborn.axisgrid.FacetGrid at 0x10f3459d0>"
      ]
     },
     "execution_count": 23,
     "metadata": {},
     "output_type": "execute_result"
    }
   ],
   "source": [
    "tips = sns.load_dataset(\"tips\")\n",
    "g = sns.FacetGrid(tips, row=\"sex\", col=\"time\", margin_titles=True)\n",
    "bins = np.linspace(0, 60, 13)\n",
    "g.map(plt.hist, \"total_bill\", color=\"steelblue\", bins=bins, lw=0)"
   ]
  },
  {
   "cell_type": "code",
   "execution_count": null,
   "metadata": {
    "collapsed": true
   },
   "outputs": [],
   "source": []
  }
 ],
 "metadata": {
  "kernelspec": {
   "display_name": "Python 2",
   "language": "python",
   "name": "python2"
  },
  "language_info": {
   "codemirror_mode": {
    "name": "ipython",
    "version": 2
   },
   "file_extension": ".py",
   "mimetype": "text/x-python",
   "name": "python",
   "nbconvert_exporter": "python",
   "pygments_lexer": "ipython2",
   "version": "2.7.12"
  }
 },
 "nbformat": 4,
 "nbformat_minor": 2
}
